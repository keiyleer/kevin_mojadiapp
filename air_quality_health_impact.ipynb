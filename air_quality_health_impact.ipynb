{
 "cells": [
  {
   "cell_type": "code",
   "execution_count": 104,
   "metadata": {},
   "outputs": [],
   "source": [
    "#Mengimport semua library yang dibutuhkan \n",
    "import pandas as pd\n",
    "import numpy as np\n",
    "from sklearn.model_selection import train_test_split\n",
    "from sklearn.preprocessing import StandardScaler\n",
    "from sklearn.preprocessing import LabelEncoder\n",
    "from sklearn.ensemble import RandomForestClassifier\n",
    "from sklearn.tree import DecisionTreeClassifier\n",
    "from sklearn.svm import SVC\n",
    "from sklearn.metrics import accuracy_score, confusion_matrix, r2_score\n",
    "import pickle"
   ]
  },
  {
   "cell_type": "code",
   "execution_count": 105,
   "metadata": {},
   "outputs": [
    {
     "name": "stdout",
     "output_type": "stream",
     "text": [
      "   RecordID         AQI        PM10       PM2_5         NO2        SO2  \\\n",
      "0         1  187.270059  295.853039   13.038560    6.639263  66.161150   \n",
      "1         2  475.357153  246.254703    9.984497   16.318326  90.499523   \n",
      "2         3  365.996971   84.443191   23.111340   96.317811  17.875850   \n",
      "3         4  299.329242   21.020609   14.273403   81.234403  48.323616   \n",
      "4         5   78.009320   16.987667  152.111623  121.235461  90.866167   \n",
      "\n",
      "           O3  Temperature   Humidity  WindSpeed  RespiratoryCases  \\\n",
      "0   54.624280     5.150335  84.424344   6.137755                 7   \n",
      "1  169.621728     1.543378  46.851415   4.521422                10   \n",
      "2    9.006794     1.169483  17.806977  11.157384                13   \n",
      "3   93.161033    21.925276  99.473373  15.302500                 8   \n",
      "4  241.795138     9.217517  24.906837  14.534733                 9   \n",
      "\n",
      "   CardiovascularCases  HospitalAdmissions  HealthImpactScore  \\\n",
      "0                    5                   1          97.244041   \n",
      "1                    2                   0         100.000000   \n",
      "2                    3                   0         100.000000   \n",
      "3                    8                   1         100.000000   \n",
      "4                    0                   1          95.182643   \n",
      "\n",
      "   HealthImpactClass  \n",
      "0                0.0  \n",
      "1                0.0  \n",
      "2                0.0  \n",
      "3                0.0  \n",
      "4                0.0  \n"
     ]
    }
   ],
   "source": [
    "air_quality_dataset = pd.read_csv('air_quality_health_impact_data.csv', on_bad_lines=\"skip\")\n",
    "print(air_quality_dataset.head())"
   ]
  },
  {
   "cell_type": "code",
   "execution_count": 106,
   "metadata": {},
   "outputs": [
    {
     "data": {
      "text/plain": [
       "RecordID               0\n",
       "AQI                    0\n",
       "PM10                   0\n",
       "PM2_5                  0\n",
       "NO2                    0\n",
       "SO2                    0\n",
       "O3                     0\n",
       "Temperature            0\n",
       "Humidity               0\n",
       "WindSpeed              0\n",
       "RespiratoryCases       0\n",
       "CardiovascularCases    0\n",
       "HospitalAdmissions     0\n",
       "HealthImpactScore      0\n",
       "HealthImpactClass      0\n",
       "dtype: int64"
      ]
     },
     "execution_count": 106,
     "metadata": {},
     "output_type": "execute_result"
    }
   ],
   "source": [
    "air_quality_dataset.isna().sum()"
   ]
  },
  {
   "cell_type": "code",
   "execution_count": 107,
   "metadata": {},
   "outputs": [],
   "source": [
    "# Convert target feature to categorical\n",
    "air_quality_dataset['HealthImpactScore'] = air_quality_dataset['HealthImpactScore'].astype('category')\n",
    "air_quality_dataset['HealthImpactClass'] = air_quality_dataset['HealthImpactClass'].astype('category')"
   ]
  },
  {
   "cell_type": "code",
   "execution_count": 108,
   "metadata": {},
   "outputs": [
    {
     "name": "stdout",
     "output_type": "stream",
     "text": [
      "\n",
      "Data Train sebelum di hapus outliers (5811, 15)\n",
      "\n",
      "Data Train setelah di hapus outliers (5165, 15)\n"
     ]
    }
   ],
   "source": [
    "def count_outliers (air_quality_dataset):\n",
    "    col_numerik = air_quality_dataset.select_dtypes(include=[np.number]).columns\n",
    "    outliers = {}\n",
    "    for col in col_numerik :\n",
    "        limit_atas = air_quality_dataset[col].quantile(0.99)\n",
    "        outliers[col] = (air_quality_dataset[col] > limit_atas).sum()\n",
    "        return outliers\n",
    "    \n",
    "outlier_air_quality_dataset = count_outliers(air_quality_dataset.drop(columns = ['RecordID']))\n",
    "\n",
    "def remove_outliers(air_quality_dataset):\n",
    "    col_numerik = air_quality_dataset.select_dtypes(include=[np.number]).columns\n",
    "    for col in col_numerik:\n",
    "        limit_atas = air_quality_dataset[col].quantile(0.99)\n",
    "        air_quality_dataset = air_quality_dataset[air_quality_dataset[col] <= limit_atas]\n",
    "    return air_quality_dataset\n",
    "\n",
    "cleaned_air_dataset = remove_outliers(air_quality_dataset) \n",
    "\n",
    "print(\"\\nData Train sebelum di hapus outliers\",air_quality_dataset.shape)\n",
    "print(\"\\nData Train setelah di hapus outliers\",cleaned_air_dataset.shape)"
   ]
  },
  {
   "cell_type": "code",
   "execution_count": 109,
   "metadata": {},
   "outputs": [
    {
     "data": {
      "text/html": [
       "<div>\n",
       "<style scoped>\n",
       "    .dataframe tbody tr th:only-of-type {\n",
       "        vertical-align: middle;\n",
       "    }\n",
       "\n",
       "    .dataframe tbody tr th {\n",
       "        vertical-align: top;\n",
       "    }\n",
       "\n",
       "    .dataframe thead th {\n",
       "        text-align: right;\n",
       "    }\n",
       "</style>\n",
       "<table border=\"1\" class=\"dataframe\">\n",
       "  <thead>\n",
       "    <tr style=\"text-align: right;\">\n",
       "      <th></th>\n",
       "      <th>AQI</th>\n",
       "      <th>PM10</th>\n",
       "      <th>PM2_5</th>\n",
       "      <th>NO2</th>\n",
       "      <th>SO2</th>\n",
       "      <th>O3</th>\n",
       "      <th>Temperature</th>\n",
       "      <th>Humidity</th>\n",
       "      <th>WindSpeed</th>\n",
       "      <th>RespiratoryCases</th>\n",
       "      <th>CardiovascularCases</th>\n",
       "      <th>HospitalAdmissions</th>\n",
       "    </tr>\n",
       "  </thead>\n",
       "  <tbody>\n",
       "    <tr>\n",
       "      <th>0</th>\n",
       "      <td>187.270059</td>\n",
       "      <td>295.853039</td>\n",
       "      <td>13.038560</td>\n",
       "      <td>6.639263</td>\n",
       "      <td>66.161150</td>\n",
       "      <td>54.624280</td>\n",
       "      <td>5.150335</td>\n",
       "      <td>84.424344</td>\n",
       "      <td>6.137755</td>\n",
       "      <td>7</td>\n",
       "      <td>5</td>\n",
       "      <td>1</td>\n",
       "    </tr>\n",
       "    <tr>\n",
       "      <th>1</th>\n",
       "      <td>475.357153</td>\n",
       "      <td>246.254703</td>\n",
       "      <td>9.984497</td>\n",
       "      <td>16.318326</td>\n",
       "      <td>90.499523</td>\n",
       "      <td>169.621728</td>\n",
       "      <td>1.543378</td>\n",
       "      <td>46.851415</td>\n",
       "      <td>4.521422</td>\n",
       "      <td>10</td>\n",
       "      <td>2</td>\n",
       "      <td>0</td>\n",
       "    </tr>\n",
       "    <tr>\n",
       "      <th>2</th>\n",
       "      <td>365.996971</td>\n",
       "      <td>84.443191</td>\n",
       "      <td>23.111340</td>\n",
       "      <td>96.317811</td>\n",
       "      <td>17.875850</td>\n",
       "      <td>9.006794</td>\n",
       "      <td>1.169483</td>\n",
       "      <td>17.806977</td>\n",
       "      <td>11.157384</td>\n",
       "      <td>13</td>\n",
       "      <td>3</td>\n",
       "      <td>0</td>\n",
       "    </tr>\n",
       "    <tr>\n",
       "      <th>4</th>\n",
       "      <td>78.009320</td>\n",
       "      <td>16.987667</td>\n",
       "      <td>152.111623</td>\n",
       "      <td>121.235461</td>\n",
       "      <td>90.866167</td>\n",
       "      <td>241.795138</td>\n",
       "      <td>9.217517</td>\n",
       "      <td>24.906837</td>\n",
       "      <td>14.534733</td>\n",
       "      <td>9</td>\n",
       "      <td>0</td>\n",
       "      <td>1</td>\n",
       "    </tr>\n",
       "    <tr>\n",
       "      <th>5</th>\n",
       "      <td>77.997260</td>\n",
       "      <td>36.113445</td>\n",
       "      <td>97.113240</td>\n",
       "      <td>87.769562</td>\n",
       "      <td>32.261206</td>\n",
       "      <td>136.999714</td>\n",
       "      <td>-1.441781</td>\n",
       "      <td>32.635904</td>\n",
       "      <td>4.675127</td>\n",
       "      <td>13</td>\n",
       "      <td>5</td>\n",
       "      <td>2</td>\n",
       "    </tr>\n",
       "    <tr>\n",
       "      <th>...</th>\n",
       "      <td>...</td>\n",
       "      <td>...</td>\n",
       "      <td>...</td>\n",
       "      <td>...</td>\n",
       "      <td>...</td>\n",
       "      <td>...</td>\n",
       "      <td>...</td>\n",
       "      <td>...</td>\n",
       "      <td>...</td>\n",
       "      <td>...</td>\n",
       "      <td>...</td>\n",
       "      <td>...</td>\n",
       "    </tr>\n",
       "    <tr>\n",
       "      <th>5746</th>\n",
       "      <td>337.146787</td>\n",
       "      <td>246.493979</td>\n",
       "      <td>130.210223</td>\n",
       "      <td>92.594733</td>\n",
       "      <td>58.776887</td>\n",
       "      <td>200.775019</td>\n",
       "      <td>11.579942</td>\n",
       "      <td>91.232370</td>\n",
       "      <td>6.218481</td>\n",
       "      <td>8</td>\n",
       "      <td>8</td>\n",
       "      <td>2</td>\n",
       "    </tr>\n",
       "    <tr>\n",
       "      <th>5747</th>\n",
       "      <td>489.977724</td>\n",
       "      <td>36.686616</td>\n",
       "      <td>43.492069</td>\n",
       "      <td>119.508875</td>\n",
       "      <td>96.194297</td>\n",
       "      <td>112.458508</td>\n",
       "      <td>1.254843</td>\n",
       "      <td>44.262755</td>\n",
       "      <td>6.106693</td>\n",
       "      <td>9</td>\n",
       "      <td>2</td>\n",
       "      <td>1</td>\n",
       "    </tr>\n",
       "    <tr>\n",
       "      <th>5748</th>\n",
       "      <td>492.800367</td>\n",
       "      <td>254.576297</td>\n",
       "      <td>40.763899</td>\n",
       "      <td>83.167996</td>\n",
       "      <td>10.357855</td>\n",
       "      <td>187.026421</td>\n",
       "      <td>11.022767</td>\n",
       "      <td>56.677998</td>\n",
       "      <td>13.994129</td>\n",
       "      <td>5</td>\n",
       "      <td>4</td>\n",
       "      <td>2</td>\n",
       "    </tr>\n",
       "    <tr>\n",
       "      <th>5750</th>\n",
       "      <td>121.807396</td>\n",
       "      <td>76.109049</td>\n",
       "      <td>1.426004</td>\n",
       "      <td>35.605906</td>\n",
       "      <td>70.175899</td>\n",
       "      <td>296.061498</td>\n",
       "      <td>16.900741</td>\n",
       "      <td>14.280989</td>\n",
       "      <td>0.599042</td>\n",
       "      <td>9</td>\n",
       "      <td>6</td>\n",
       "      <td>1</td>\n",
       "    </tr>\n",
       "    <tr>\n",
       "      <th>5751</th>\n",
       "      <td>399.277919</td>\n",
       "      <td>260.930570</td>\n",
       "      <td>136.339694</td>\n",
       "      <td>15.513781</td>\n",
       "      <td>66.720706</td>\n",
       "      <td>106.114074</td>\n",
       "      <td>26.193341</td>\n",
       "      <td>14.902772</td>\n",
       "      <td>0.970505</td>\n",
       "      <td>8</td>\n",
       "      <td>7</td>\n",
       "      <td>1</td>\n",
       "    </tr>\n",
       "  </tbody>\n",
       "</table>\n",
       "<p>5165 rows × 12 columns</p>\n",
       "</div>"
      ],
      "text/plain": [
       "             AQI        PM10       PM2_5         NO2        SO2          O3  \\\n",
       "0     187.270059  295.853039   13.038560    6.639263  66.161150   54.624280   \n",
       "1     475.357153  246.254703    9.984497   16.318326  90.499523  169.621728   \n",
       "2     365.996971   84.443191   23.111340   96.317811  17.875850    9.006794   \n",
       "4      78.009320   16.987667  152.111623  121.235461  90.866167  241.795138   \n",
       "5      77.997260   36.113445   97.113240   87.769562  32.261206  136.999714   \n",
       "...          ...         ...         ...         ...        ...         ...   \n",
       "5746  337.146787  246.493979  130.210223   92.594733  58.776887  200.775019   \n",
       "5747  489.977724   36.686616   43.492069  119.508875  96.194297  112.458508   \n",
       "5748  492.800367  254.576297   40.763899   83.167996  10.357855  187.026421   \n",
       "5750  121.807396   76.109049    1.426004   35.605906  70.175899  296.061498   \n",
       "5751  399.277919  260.930570  136.339694   15.513781  66.720706  106.114074   \n",
       "\n",
       "      Temperature   Humidity  WindSpeed  RespiratoryCases  \\\n",
       "0        5.150335  84.424344   6.137755                 7   \n",
       "1        1.543378  46.851415   4.521422                10   \n",
       "2        1.169483  17.806977  11.157384                13   \n",
       "4        9.217517  24.906837  14.534733                 9   \n",
       "5       -1.441781  32.635904   4.675127                13   \n",
       "...           ...        ...        ...               ...   \n",
       "5746    11.579942  91.232370   6.218481                 8   \n",
       "5747     1.254843  44.262755   6.106693                 9   \n",
       "5748    11.022767  56.677998  13.994129                 5   \n",
       "5750    16.900741  14.280989   0.599042                 9   \n",
       "5751    26.193341  14.902772   0.970505                 8   \n",
       "\n",
       "      CardiovascularCases  HospitalAdmissions  \n",
       "0                       5                   1  \n",
       "1                       2                   0  \n",
       "2                       3                   0  \n",
       "4                       0                   1  \n",
       "5                       5                   2  \n",
       "...                   ...                 ...  \n",
       "5746                    8                   2  \n",
       "5747                    2                   1  \n",
       "5748                    4                   2  \n",
       "5750                    6                   1  \n",
       "5751                    7                   1  \n",
       "\n",
       "[5165 rows x 12 columns]"
      ]
     },
     "execution_count": 109,
     "metadata": {},
     "output_type": "execute_result"
    }
   ],
   "source": [
    "x = cleaned_air_dataset.drop(['RecordID','HealthImpactScore','HealthImpactClass'], axis=1)\n",
    "x"
   ]
  },
  {
   "cell_type": "code",
   "execution_count": 110,
   "metadata": {},
   "outputs": [
    {
     "data": {
      "text/plain": [
       "array([[-0.40632395,  1.74576749, -1.49179641, ..., -0.96659077,\n",
       "         0.01567071, -0.72161761],\n",
       "       [ 1.61027993,  1.16160929, -1.54489372, ...,  0.02299126,\n",
       "        -1.37185864, -1.46511551],\n",
       "       [ 0.84476085, -0.7441708 , -1.31667316, ...,  1.01257328,\n",
       "        -0.90934886, -1.46511551],\n",
       "       ...,\n",
       "       [ 1.73238208,  1.25961918, -1.00976944, ..., -1.62631211,\n",
       "        -0.44683907,  0.02188029],\n",
       "       [-0.86456129, -0.84232847, -1.6936899 , ..., -0.30686942,\n",
       "         0.47818049, -0.72161761],\n",
       "       [ 1.07772682,  1.3344584 ,  0.65189147, ..., -0.63673009,\n",
       "         0.94069027, -0.72161761]])"
      ]
     },
     "execution_count": 110,
     "metadata": {},
     "output_type": "execute_result"
    }
   ],
   "source": [
    "scaler = StandardScaler()\n",
    "x_standard = scaler.fit_transform(x)\n",
    "x_standard"
   ]
  },
  {
   "cell_type": "code",
   "execution_count": 111,
   "metadata": {},
   "outputs": [
    {
     "data": {
      "text/plain": [
       "0       0.0\n",
       "1       0.0\n",
       "2       0.0\n",
       "4       0.0\n",
       "5       1.0\n",
       "       ... \n",
       "5746    1.0\n",
       "5747    3.0\n",
       "5748    1.0\n",
       "5750    4.0\n",
       "5751    4.0\n",
       "Name: HealthImpactClass, Length: 5165, dtype: category\n",
       "Categories (5, float64): [0.0, 1.0, 2.0, 3.0, 4.0]"
      ]
     },
     "execution_count": 111,
     "metadata": {},
     "output_type": "execute_result"
    }
   ],
   "source": [
    "y = cleaned_air_dataset['HealthImpactClass']\n",
    "y"
   ]
  },
  {
   "cell_type": "code",
   "execution_count": 112,
   "metadata": {},
   "outputs": [],
   "source": [
    "x_train,x_test,y_train,y_test=train_test_split(x_standard, y, test_size=0.2, random_state=42)"
   ]
  },
  {
   "cell_type": "code",
   "execution_count": 113,
   "metadata": {},
   "outputs": [
    {
     "name": "stdout",
     "output_type": "stream",
     "text": [
      "0.9002904162633107\n"
     ]
    }
   ],
   "source": [
    "model_classifier_1 = SVC()\n",
    "model_classifier_1.fit(x_train,y_train)\n",
    "\n",
    "y_pred = model_classifier_1.predict(x_test)\n",
    "accuracy_test = accuracy_score(y_test,y_pred)\n",
    "print(accuracy_test)"
   ]
  },
  {
   "cell_type": "code",
   "execution_count": 114,
   "metadata": {},
   "outputs": [
    {
     "name": "stdout",
     "output_type": "stream",
     "text": [
      "0.8983543078412392\n"
     ]
    }
   ],
   "source": [
    "model_classifier_2 = RandomForestClassifier()\n",
    "model_classifier_2.fit(x_train,y_train)\n",
    "\n",
    "y_pred = model_classifier_2.predict(x_test)\n",
    "accuracy_test = accuracy_score(y_test, y_pred)\n",
    "print(accuracy_test)"
   ]
  },
  {
   "cell_type": "code",
   "execution_count": 115,
   "metadata": {},
   "outputs": [
    {
     "name": "stdout",
     "output_type": "stream",
     "text": [
      "0.8383349467570184\n"
     ]
    }
   ],
   "source": [
    "model_classifier_3 = DecisionTreeClassifier()\n",
    "model_classifier_3.fit(x_train,y_train)\n",
    "\n",
    "y_pred = model_classifier_3.predict(x_test)\n",
    "accuracy_test = accuracy_score(y_test, y_pred)\n",
    "print(accuracy_test)"
   ]
  },
  {
   "cell_type": "code",
   "execution_count": 116,
   "metadata": {},
   "outputs": [
    {
     "name": "stdout",
     "output_type": "stream",
     "text": [
      "[[-1.64516509 -0.16325786  0.77003839 -1.24974505 -1.47230106 -0.02790972\n",
      "  -1.53106001  1.76624759 -0.78884498 -0.30686942  0.94069027  1.50887608]]\n",
      "[1.]\n",
      "Kualitas Udara berdampak Buruk untuk kesehatan anda\n"
     ]
    },
    {
     "name": "stderr",
     "output_type": "stream",
     "text": [
      "C:\\Users\\kevin\\AppData\\Local\\Packages\\PythonSoftwareFoundation.Python.3.12_qbz5n2kfra8p0\\LocalCache\\local-packages\\Python312\\site-packages\\sklearn\\base.py:493: UserWarning: X does not have valid feature names, but StandardScaler was fitted with feature names\n",
      "  warnings.warn(\n"
     ]
    }
   ],
   "source": [
    "input_data = (10.292247147901223, 133.76598595794235, 143.13529602451538 ,29.374375166641475, 7.374416514116067, 146.350041824353,-7.1508773244773804,99.6814012977356,5.37810152663782,9,7,4)\n",
    "input_data_as_numpy_array = np.array(input_data)\n",
    "input_data_reshape = input_data_as_numpy_array.reshape(1,-1)\n",
    "\n",
    "std_data = scaler.transform(input_data_reshape)\n",
    "print(std_data)\n",
    "\n",
    "prediction = model_classifier_2.predict(std_data)\n",
    "print(prediction)\n",
    "\n",
    "if (prediction[0] == 0) :\n",
    "    print('Kualitas Udara berdampak Sangat Buruk untuk kesehatan anda')\n",
    "elif (prediction[0] == 1) :\n",
    "    print('Kualitas Udara berdampak Buruk untuk kesehatan anda')\n",
    "elif  (prediction[0] == 2) :\n",
    "    print('Kualitas Udara berdampak Sedang untuk kesehatan anda')\n",
    "elif  (prediction[0] == 3) :\n",
    "    print('Kualitas Udara berdampak Rendah untuk kesehatan anda')\n",
    "else :          \n",
    "    print('Kualitas Udara berdampak Sangat Rendah untuk kesehatan anda')"
   ]
  },
  {
   "cell_type": "code",
   "execution_count": 117,
   "metadata": {},
   "outputs": [],
   "source": [
    "with open('model.pkl', 'wb') as model_file:\n",
    "    pickle.dump(model_classifier_1, model_file)\n",
    "\n",
    "with open('scaler.pkl', 'wb') as scaler_file:\n",
    "    pickle.dump(scaler, scaler_file)"
   ]
  }
 ],
 "metadata": {
  "kernelspec": {
   "display_name": "Python 3",
   "language": "python",
   "name": "python3"
  },
  "language_info": {
   "codemirror_mode": {
    "name": "ipython",
    "version": 3
   },
   "file_extension": ".py",
   "mimetype": "text/x-python",
   "name": "python",
   "nbconvert_exporter": "python",
   "pygments_lexer": "ipython3",
   "version": "3.12.4"
  }
 },
 "nbformat": 4,
 "nbformat_minor": 2
}
